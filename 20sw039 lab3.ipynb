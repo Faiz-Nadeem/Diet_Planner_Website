{
  "nbformat": 4,
  "nbformat_minor": 0,
  "metadata": {
    "colab": {
      "provenance": [],
      "authorship_tag": "ABX9TyO/HqHWZ+9JBjnPPqRgs/wM",
      "include_colab_link": true
    },
    "kernelspec": {
      "name": "python3",
      "display_name": "Python 3"
    },
    "language_info": {
      "name": "python"
    }
  },
  "cells": [
    {
      "cell_type": "markdown",
      "metadata": {
        "id": "view-in-github",
        "colab_type": "text"
      },
      "source": [
        "<a href=\"https://colab.research.google.com/github/Faiz-Nadeem/Diet_Planner_Website/blob/master/20sw039%20lab3.ipynb\" target=\"_parent\"><img src=\"https://colab.research.google.com/assets/colab-badge.svg\" alt=\"Open In Colab\"/></a>"
      ]
    },
    {
      "cell_type": "markdown",
      "source": [
        "task#01"
      ],
      "metadata": {
        "id": "so9nN49Oy8RT"
      }
    },
    {
      "cell_type": "code",
      "source": [
        "population=int(input(\"enter population\"))\n",
        "landarea=int(input(\"enter landarea\"))\n",
        "def population_density(population,landarea):\n",
        " return print(\"population density\" ,population/landarea);\n",
        "\n",
        "population_density(population,landarea);"
      ],
      "metadata": {
        "id": "8W_lwT2ey98b"
      },
      "execution_count": null,
      "outputs": []
    },
    {
      "cell_type": "markdown",
      "source": [
        "task#02"
      ],
      "metadata": {
        "id": "IcZ6Ery-zCZI"
      }
    },
    {
      "cell_type": "code",
      "source": [
        "def readable_timedelta(days):\n",
        "    weeks = days // 7\n",
        "    remaining_days = days % 7\n",
        "    return print( weeks,\"week\", remaining_days ,\"days\");\n",
        "print(readable_timedelta(10));"
      ],
      "metadata": {
        "id": "qFJMtU2FzD6M"
      },
      "execution_count": null,
      "outputs": []
    },
    {
      "cell_type": "markdown",
      "source": [
        "task#03"
      ],
      "metadata": {
        "id": "9Gs0-TQzzICe"
      }
    },
    {
      "cell_type": "code",
      "source": [
        "numbers = [\n",
        "    [34, 63, 88, 71, 29],\n",
        "    [90, 78, 51, 27, 45],\n",
        "    [63, 37, 85, 46, 22],\n",
        "    [51, 22, 34, 11, 18]\n",
        "]\n",
        "#num_list is the variable\n",
        "averages = list(map(lambda num_list: sum(num_list) / len(num_list), numbers))\n",
        "print(averages)"
      ],
      "metadata": {
        "colab": {
          "base_uri": "https://localhost:8080/"
        },
        "id": "CzSpRVjmzJTF",
        "outputId": "0dbc00fb-f831-480c-c11a-20fa8b4fade4"
      },
      "execution_count": 1,
      "outputs": [
        {
          "output_type": "stream",
          "name": "stdout",
          "text": [
            "[57.0, 58.2, 50.6, 27.2]\n"
          ]
        }
      ]
    },
    {
      "cell_type": "markdown",
      "source": [
        "task#04"
      ],
      "metadata": {
        "id": "akJyyG9izpb6"
      }
    },
    {
      "cell_type": "code",
      "source": [
        "cities = [\"New York City\", \"Los Angeles\", \"Chicago\", \"Mountain View\", \"Denver\", \"Boston\"]\n",
        "\n",
        "short_cities = list(filter(lambda name: len(name) < 10, cities))\n",
        "print(short_cities)"
      ],
      "metadata": {
        "colab": {
          "base_uri": "https://localhost:8080/"
        },
        "id": "Nm8q9kGazrH8",
        "outputId": "9246571d-43cd-4025-f8a1-87852e64bd50"
      },
      "execution_count": 5,
      "outputs": [
        {
          "output_type": "stream",
          "name": "stdout",
          "text": [
            "['Chicago', 'Denver', 'Boston']\n"
          ]
        }
      ]
    },
    {
      "cell_type": "markdown",
      "source": [
        "task#05"
      ],
      "metadata": {
        "id": "FDbXpBOS0PtV"
      }
    },
    {
      "cell_type": "code",
      "source": [
        "# Get and process input for a list of names\n",
        "names_input = input(\"Enter a list of names separated by spaces: \")\n",
        "names = names_input.split()\n",
        "\n",
        "# Get and process input for a list of the number of assignments\n",
        "assignments_input = input(\"Enter a list of the number of assignments separated by spaces: \")\n",
        "assignments = list(map(int, assignments_input.split()))\n",
        "\n",
        "# Get and process input for a list of grades\n",
        "grades_input = input(\"Enter a list of grades separated by spaces: \")\n",
        "grades = list(map(float, grades_input.split()))\n",
        "\n",
        "# Message string to be used for each student\n",
        "message = \"Hi {},\\n\\nThis is a reminder that you have {} assignments left to submit before you can graduate. Your current grade is {} and can increase to {} if you submit all assignments before the due date.\\n\\n\"\n",
        "\n",
        "# Write a for loop that iterates through each set of names, assignments, and grades to print each student's message\n",
        "for name, assignment_count, grade in zip(names, assignments, grades):\n",
        "    potential_grade = grade + 2 * assignment_count\n",
        "    print(message.format(name, assignment_count, grade, potential_grade))"
      ],
      "metadata": {
        "id": "bd3rYl1_0RgI"
      },
      "execution_count": null,
      "outputs": []
    },
    {
      "cell_type": "markdown",
      "source": [
        "task#06"
      ],
      "metadata": {
        "id": "H9QYHmXV0ib1"
      }
    },
    {
      "cell_type": "code",
      "source": [
        "file_content = \"\"\"We're the knights of the round table\n",
        "We dance whenever we're able\"\"\"\n",
        "with open(\"camelot.txt\", \"w\") as f:\n",
        "    f.write(file_content)\n",
        "\n",
        "# Opening the file in read mode\n",
        "with open(\"camelot.txt\", \"r\") as f:\n",
        "    # Reading the first 10 characters\n",
        "    first_10_chars = f.read(10)\n",
        "    print(\"First 10 characters:\")\n",
        "    print(first_10_chars)\n",
        "\n",
        "    # Reading the next 15 characters from the current position\n",
        "    next_15_chars = f.read(15)\n",
        "    print(\"\\nNext 15 characters:\")\n",
        "    print(next_15_chars)\n",
        "\n",
        "    # Reading the remaining content of the file from the current position\n",
        "    rest_of_the_file = f.read()\n",
        "    print(\"\\nRest of the file:\")\n",
        "    print(rest_of_the_file)"
      ],
      "metadata": {
        "colab": {
          "base_uri": "https://localhost:8080/"
        },
        "id": "CDTBpBbU0kMg",
        "outputId": "ebe1934f-d788-45fd-bf66-a7d36b4e1ad6"
      },
      "execution_count": 6,
      "outputs": [
        {
          "output_type": "stream",
          "name": "stdout",
          "text": [
            "First 10 characters:\n",
            "We're the \n",
            "\n",
            "Next 15 characters:\n",
            "knights of the \n",
            "\n",
            "Rest of the file:\n",
            "round table\n",
            "We dance whenever we're able\n"
          ]
        }
      ]
    }
  ]
}